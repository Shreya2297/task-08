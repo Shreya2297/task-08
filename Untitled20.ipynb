import cv2
import matplotlib.pyplot as plt
import numpy as np
import easyocr

#Importing image and transforming it to gray scale
img = cv2.imread('car_plate.jpg')
img_bw = cv2.cvtColor(img, cv2.COLOR_BGR2GRAY)
plt.imshow(img_bw,cmap="gray")


car_plate_cls = cv2.CascadeClassifier('haarcascade_russian_plate_number.xml')

# Setup function to detect car plate
def carplate_detect(img):
    carplate_overlay = img.copy() 
    carplate_rects = car_plate_cls.detectMultiScale(carplate_overlay,scaleFactor=1.1, minNeighbors=3)
    for x,y,w,h in carplate_rects: 
        cv2.rectangle(carplate_overlay, (x,y), (x+w,y+h), (0,255,0), 20) 
        
    return carplate_overlay


detected_carplate_img = carplate_detect(img)
plt.imshow(detected_carplate_img)


# Create function to retrieve only the car plate region itself
def carplate_extract(image):
    
    carplate_rects = car_plate_cls.detectMultiScale(image,scaleFactor=1.1, minNeighbors=5)
    for x,y,w,h in carplate_rects: 
            carplate_img = image[y+15:y+h-10 ,x+15:x+w-20] # Adjusted to extract specific region of interest i.e. car license plate
        
    return carplate_img

# Enlarge image for further processing later on
def enlarge_img(image, scale_percent):
    width = int(image.shape[1] * scale_percent / 100)
    height = int(image.shape[0] * scale_percent / 100)
    dim = (width, height)
    resized_image = cv2.resize(image, dim, interpolation = cv2.INTER_AREA)
    return resized_image

# Display extracted car license plate image
carplate_extract_img = carplate_extract(img)
carplate_extract_img = enlarge_img(carplate_extract_img, 150)
plt.imshow(carplate_extract_img)


reader = easyocr.Reader(['en'])
result = reader.readtext(carplate_extract_img)
result

final_result = result[1][1]+result[0][1]
n=""
f = final_result.split('-')
f = n.join(f)
f = f.replace(" ","")
f

#client
import socket
s=socket.socket(socket.AF_INET,socket.SOCK_DGRAM)
s.sendto(f.encode(),("35.154.13.163",5658))

