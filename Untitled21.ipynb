{
 "cells": [
  {
   "cell_type": "code",
   "execution_count": null,
   "id": "8a88893c",
   "metadata": {},
   "outputs": [],
   "source": [
    "import cv2\n",
    "import matplotlib.pyplot as plt\n",
    "import numpy as np\n",
    "import easyocr\n",
    "\n",
    "#Importing image and transforming it to gray scale\n",
    "img = cv2.imread('car_plate.jpg')\n",
    "img_bw = cv2.cvtColor(img, cv2.COLOR_BGR2GRAY)\n",
    "plt.imshow(img_bw,cmap=\"gray\")"
   ]
  },
  {
   "cell_type": "code",
   "execution_count": null,
   "id": "a4f28a72",
   "metadata": {},
   "outputs": [],
   "source": [
    "car_plate_cls = cv2.CascadeClassifier('haarcascade_russian_plate_number.xml')\n",
    "\n",
    "# Setup function to detect car plate\n",
    "def carplate_detect(img):\n",
    "    carplate_overlay = img.copy() \n",
    "    carplate_rects = car_plate_cls.detectMultiScale(carplate_overlay,scaleFactor=1.1, minNeighbors=3)\n",
    "    for x,y,w,h in carplate_rects: \n",
    "        cv2.rectangle(carplate_overlay, (x,y), (x+w,y+h), (0,255,0), 20) \n",
    "        \n",
    "    return carplate_overlay\n",
    "\n",
    "\n",
    "detected_carplate_img = carplate_detect(img)\n",
    "plt.imshow(detected_carplate_img)"
   ]
  },
  {
   "cell_type": "code",
   "execution_count": null,
   "id": "d814f794",
   "metadata": {},
   "outputs": [],
   "source": [
    "# Create function to retrieve only the car plate region itself\n",
    "def carplate_extract(image):\n",
    "    \n",
    "    carplate_rects = car_plate_cls.detectMultiScale(image,scaleFactor=1.1, minNeighbors=5)\n",
    "    for x,y,w,h in carplate_rects: \n",
    "            carplate_img = image[y+15:y+h-10 ,x+15:x+w-20] # Adjusted to extract specific region of interest i.e. car license plate\n",
    "        \n",
    "    return carplate_img\n",
    "\n",
    "# Enlarge image for further processing later on\n",
    "def enlarge_img(image, scale_percent):\n",
    "    width = int(image.shape[1] * scale_percent / 100)\n",
    "    height = int(image.shape[0] * scale_percent / 100)\n",
    "    dim = (width, height)\n",
    "    resized_image = cv2.resize(image, dim, interpolation = cv2.INTER_AREA)\n",
    "    return resized_image\n",
    "\n",
    "# Display extracted car license plate image\n",
    "carplate_extract_img = carplate_extract(img)\n",
    "carplate_extract_img = enlarge_img(carplate_extract_img, 150)\n",
    "plt.imshow(carplate_extract_img)"
   ]
  },
  {
   "cell_type": "code",
   "execution_count": null,
   "id": "db15481e",
   "metadata": {},
   "outputs": [],
   "source": [
    "reader = easyocr.Reader(['en'])\n",
    "result = reader.readtext(carplate_extract_img)\n",
    "result"
   ]
  },
  {
   "cell_type": "code",
   "execution_count": null,
   "id": "813f7936",
   "metadata": {},
   "outputs": [],
   "source": [
    "final_result = result[1][1]+result[0][1]\n",
    "n=\"\"\n",
    "f = final_result.split('-')\n",
    "f = n.join(f)\n",
    "f = f.replace(\" \",\"\")\n",
    "f"
   ]
  },
  {
   "cell_type": "code",
   "execution_count": null,
   "id": "d7c47f66",
   "metadata": {},
   "outputs": [],
   "source": [
    "#client\n",
    "import socket\n",
    "s=socket.socket(socket.AF_INET,socket.SOCK_DGRAM)\n",
    "s.sendto(f.encode(),(\"35.154.13.163\",5658))"
   ]
  },
  {
   "cell_type": "code",
   "execution_count": null,
   "id": "05832787",
   "metadata": {},
   "outputs": [],
   "source": []
  },
  {
   "cell_type": "code",
   "execution_count": null,
   "id": "54dfc286",
   "metadata": {},
   "outputs": [],
   "source": []
  }
 ],
 "metadata": {
  "kernelspec": {
   "display_name": "Python 3",
   "language": "python",
   "name": "python3"
  },
  "language_info": {
   "codemirror_mode": {
    "name": "ipython",
    "version": 3
   },
   "file_extension": ".py",
   "mimetype": "text/x-python",
   "name": "python",
   "nbconvert_exporter": "python",
   "pygments_lexer": "ipython3",
   "version": "3.8.8"
  }
 },
 "nbformat": 4,
 "nbformat_minor": 5
}
